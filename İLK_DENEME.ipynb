{
  "nbformat": 4,
  "nbformat_minor": 0,
  "metadata": {
    "colab": {
      "name": "İLK DENEME",
      "provenance": [],
      "mount_file_id": "1RQa3B0PDvWRMDbMvErsDX7KzwUhJEUHS",
      "authorship_tag": "ABX9TyMYvbaUdo4ThdT4LoN69LW1",
      "include_colab_link": true
    },
    "kernelspec": {
      "name": "python3",
      "display_name": "Python 3"
    }
  },
  "cells": [
    {
      "cell_type": "markdown",
      "metadata": {
        "id": "view-in-github",
        "colab_type": "text"
      },
      "source": [
        "<a href=\"https://colab.research.google.com/github/mrkurga/gpt-2/blob/master/%C4%B0LK_DENEME.ipynb\" target=\"_parent\"><img src=\"https://colab.research.google.com/assets/colab-badge.svg\" alt=\"Open In Colab\"/></a>"
      ]
    },
    {
      "cell_type": "code",
      "metadata": {
        "id": "vu4DeDRDBsuq"
      },
      "source": [
        "GPT2 ÇALIŞMASI 16.03.2021\r\n",
        "\r\n",
        "##birinci deneme\r\n"
      ],
      "execution_count": null,
      "outputs": []
    },
    {
      "cell_type": "code",
      "metadata": {
        "colab": {
          "base_uri": "https://localhost:8080/"
        },
        "id": "RCoaVd9PJ3x5",
        "outputId": "04a72c2b-66e3-4639-84d8-b99db4698214"
      },
      "source": [
        "from google.colab import drive\n",
        "drive.mount('/gdrive')\n",
        "%cd /gdrive"
      ],
      "execution_count": 3,
      "outputs": [
        {
          "output_type": "stream",
          "text": [
            "Drive already mounted at /gdrive; to attempt to forcibly remount, call drive.mount(\"/gdrive\", force_remount=True).\n",
            "/gdrive\n"
          ],
          "name": "stdout"
        }
      ]
    },
    {
      "cell_type": "code",
      "metadata": {
        "colab": {
          "base_uri": "https://localhost:8080/",
          "height": 129
        },
        "id": "qPhuxDTpKKCF",
        "outputId": "a50f32e2-a62e-469b-dcdc-33d61bef0eb3"
      },
      "source": [
        "1s\r\n"
      ],
      "execution_count": 4,
      "outputs": [
        {
          "output_type": "error",
          "ename": "SyntaxError",
          "evalue": "ignored",
          "traceback": [
            "\u001b[0;36m  File \u001b[0;32m\"<ipython-input-4-a547957743d5>\"\u001b[0;36m, line \u001b[0;32m1\u001b[0m\n\u001b[0;31m    1s\u001b[0m\n\u001b[0m     ^\u001b[0m\n\u001b[0;31mSyntaxError\u001b[0m\u001b[0;31m:\u001b[0m invalid syntax\n"
          ]
        }
      ]
    },
    {
      "cell_type": "code",
      "metadata": {
        "colab": {
          "base_uri": "https://localhost:8080/",
          "height": 129
        },
        "id": "V9eW-Hr-OYTa",
        "outputId": "c55830c3-a2cb-47db-e1f3-c75b6de30073"
      },
      "source": [
        "https://github.com/cagbal/cagatay_youtube/blob/master/youtube_cagbal_GPT_2.ipynb\r\n"
      ],
      "execution_count": 5,
      "outputs": [
        {
          "output_type": "error",
          "ename": "SyntaxError",
          "evalue": "ignored",
          "traceback": [
            "\u001b[0;36m  File \u001b[0;32m\"<ipython-input-5-041165d7670e>\"\u001b[0;36m, line \u001b[0;32m1\u001b[0m\n\u001b[0;31m    https://github.com/cagbal/cagatay_youtube/blob/master/youtube_cagbal_GPT_2.ipynb\u001b[0m\n\u001b[0m           ^\u001b[0m\n\u001b[0;31mSyntaxError\u001b[0m\u001b[0;31m:\u001b[0m invalid syntax\n"
          ]
        }
      ]
    },
    {
      "cell_type": "markdown",
      "metadata": {
        "id": "g1yBQ2oSOcTU"
      },
      "source": [
        "https://github.com/cagbal/cagatay_youtube/blob/master/youtube_cagbal_GPT_2.ipynb\r\n"
      ]
    },
    {
      "cell_type": "code",
      "metadata": {
        "id": "A3oiLncMOiM7"
      },
      "source": [
        "!git clone https://github.com/nshepperd/gpt-2.git"
      ],
      "execution_count": null,
      "outputs": []
    }
  ]
}